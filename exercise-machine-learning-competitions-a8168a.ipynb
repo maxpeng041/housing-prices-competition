{
 "cells": [
  {
   "cell_type": "markdown",
   "metadata": {
    "_uuid": "a921368aedd7b497150faabfe9b942ab421552ed"
   },
   "source": [
    "# Introduction\n",
    "Machine learning competitions are a great way to improve your data science skills and measure your progress. \n",
    "\n",
    "In this exercise, you will create and submit predictions for a Kaggle competition. You can then improve your model (e.g. by adding features) to improve and see how you stack up to others taking this course.\n",
    "The link to the competition is https://www.kaggle.com/c/home-data-for-ml-course/overview\n",
    "\n",
    "The steps in this notebook are:\n",
    "1. Build a Random Forest model with all of your data (**X** and **y**)\n",
    "2. Read in the \"test\" data, which doesn't include values for the target.  Predict home values in the test data with your Random Forest model.\n",
    "3. Submit those predictions to the competition and see your score.\n",
    "4. Optionally, come back to see if you can improve your model by adding features or changing your model. Then you can resubmit to see how that stacks up on the competition leaderboard."
   ]
  },
  {
   "cell_type": "code",
   "execution_count": 35,
   "metadata": {
    "_uuid": "497c64bd47a9912ba2d4f011a48359ad33161222",
    "scrolled": false
   },
   "outputs": [
    {
     "data": {
      "text/plain": [
       "Index(['Id', 'MSSubClass', 'MSZoning', 'LotFrontage', 'LotArea', 'Street',\n",
       "       'Alley', 'LotShape', 'LandContour', 'Utilities', 'LotConfig',\n",
       "       'LandSlope', 'Neighborhood', 'Condition1', 'Condition2', 'BldgType',\n",
       "       'HouseStyle', 'OverallQual', 'OverallCond', 'YearBuilt', 'YearRemodAdd',\n",
       "       'RoofStyle', 'RoofMatl', 'Exterior1st', 'Exterior2nd', 'MasVnrType',\n",
       "       'MasVnrArea', 'ExterQual', 'ExterCond', 'Foundation', 'BsmtQual',\n",
       "       'BsmtCond', 'BsmtExposure', 'BsmtFinType1', 'BsmtFinSF1',\n",
       "       'BsmtFinType2', 'BsmtFinSF2', 'BsmtUnfSF', 'TotalBsmtSF', 'Heating',\n",
       "       'HeatingQC', 'CentralAir', 'Electrical', '1stFlrSF', '2ndFlrSF',\n",
       "       'LowQualFinSF', 'GrLivArea', 'BsmtFullBath', 'BsmtHalfBath', 'FullBath',\n",
       "       'HalfBath', 'BedroomAbvGr', 'KitchenAbvGr', 'KitchenQual',\n",
       "       'TotRmsAbvGrd', 'Functional', 'Fireplaces', 'FireplaceQu', 'GarageType',\n",
       "       'GarageYrBlt', 'GarageFinish', 'GarageCars', 'GarageArea', 'GarageQual',\n",
       "       'GarageCond', 'PavedDrive', 'WoodDeckSF', 'OpenPorchSF',\n",
       "       'EnclosedPorch', '3SsnPorch', 'ScreenPorch', 'PoolArea', 'PoolQC',\n",
       "       'Fence', 'MiscFeature', 'MiscVal', 'MoSold', 'YrSold', 'SaleType',\n",
       "       'SaleCondition', 'SalePrice'],\n",
       "      dtype='object')"
      ]
     },
     "execution_count": 35,
     "metadata": {},
     "output_type": "execute_result"
    }
   ],
   "source": [
    "import warnings\n",
    "warnings.simplefilter(action='ignore', category=FutureWarning)\n",
    "\n",
    "import pandas as pd\n",
    "from sklearn.ensemble import RandomForestRegressor\n",
    "from sklearn.ensemble import GradientBoostingRegressor\n",
    "from sklearn.metrics import mean_absolute_error\n",
    "from sklearn.model_selection import train_test_split\n",
    "from sklearn.tree import DecisionTreeRegressor\n",
    "from sklearn.impute import SimpleImputer\n",
    "from sklearn.pipeline import make_pipeline\n",
    "from sklearn.model_selection import cross_val_score\n",
    "from xgboost import XGBRegressor\n",
    "\n",
    "iowa_file_path = 'train.csv'\n",
    "\n",
    "home_data = pd.read_csv(iowa_file_path)\n",
    "home_data.columns"
   ]
  },
  {
   "cell_type": "code",
   "execution_count": 36,
   "metadata": {},
   "outputs": [],
   "source": [
    "y = home_data.SalePrice\n",
    "updated_features = ['LotArea', 'YearBuilt', '1stFlrSF', '2ndFlrSF', 'BedroomAbvGr', 'TotalBsmtSF', 'GarageCars', 'OverallCond',\n",
    "                    'OverallQual', 'KitchenQual', 'Neighborhood', 'CentralAir', 'LowQualFinSF', 'Condition2']\n",
    "one_hot_encoded_training = pd.get_dummies(home_data[updated_features])\n",
    "X = SimpleImputer().fit_transform(one_hot_encoded_training)\n",
    "\n",
    "train_X, val_X, train_y, val_y = train_test_split(one_hot_encoded_training, y, test_size=0.2, random_state=1)"
   ]
  },
  {
   "cell_type": "markdown",
   "metadata": {},
   "source": [
    "# Partial Dependence Plots"
   ]
  },
  {
   "cell_type": "code",
   "execution_count": 37,
   "metadata": {
    "_kg_hide-input": true,
    "_kg_hide-output": true
   },
   "outputs": [
    {
     "data": {
      "image/png": "[encoded data removed]",
      "text/plain": [
       "<Figure size 432x288 with 2 Axes>"
      ]
     },
     "metadata": {
      "needs_background": "light"
     },
     "output_type": "display_data"
    }
   ],
   "source": [
    "from sklearn.ensemble.partial_dependence import partial_dependence, plot_partial_dependence\n",
    "\n",
    "gb_model = GradientBoostingRegressor()\n",
    "gb_model.fit(X,y)\n",
    "my_plots = plot_partial_dependence(gb_model, features=[0,1], X=X,\n",
    "                                   feature_names=['LotArea', 'YearBuilt', '1stFlrSF', '2ndFlrSF', 'BedroomAbvGr', \n",
    "                                                  'TotalBsmtSF', 'GarageCars', 'OverallCond', 'OverallQual', \n",
    "                                                  'Neighborhood', 'CentralAir'], grid_resolution=10)"
   ]
  },
  {
   "cell_type": "markdown",
   "metadata": {},
   "source": [
    "# Compare Different Models with Train Test Split"
   ]
  },
  {
   "cell_type": "code",
   "execution_count": 38,
   "metadata": {},
   "outputs": [
    {
     "name": "stdout",
     "output_type": "stream",
     "text": [
      "Validation MAE when not specifying max_leaf_nodes: 25,176\n",
      "Validation MAE for best value of max_leaf_nodes: 24,898\n",
      "Validation MAE for Random Forest Model: 18,190\n",
      "Validation MAE for Gradient Boosting: 16,634\n"
     ]
    }
   ],
   "source": [
    "iowa_model = DecisionTreeRegressor(random_state=1)\n",
    "iowa_model.fit(train_X, train_y)\n",
    "val_predictions = iowa_model.predict(val_X)\n",
    "val_mae = mean_absolute_error(val_predictions, val_y)\n",
    "print(\"Validation MAE when not specifying max_leaf_nodes: {:,.0f}\".format(val_mae))\n",
    "\n",
    "iowa_model = DecisionTreeRegressor(max_leaf_nodes=100, random_state=1)\n",
    "iowa_model.fit(train_X, train_y)\n",
    "val_predictions = iowa_model.predict(val_X)\n",
    "val_mae = mean_absolute_error(val_predictions, val_y)\n",
    "print(\"Validation MAE for best value of max_leaf_nodes: {:,.0f}\".format(val_mae))\n",
    "\n",
    "rf_model = RandomForestRegressor(random_state=1)\n",
    "rf_model.fit(train_X, train_y)\n",
    "rf_val_predictions = rf_model.predict(val_X)\n",
    "rf_val_mae = mean_absolute_error(rf_val_predictions, val_y)\n",
    "print(\"Validation MAE for Random Forest Model: {:,.0f}\".format(rf_val_mae))\n",
    "\n",
    "gb_model = GradientBoostingRegressor(random_state=1)\n",
    "gb_model.fit(train_X, train_y)\n",
    "gb_val_predictions = gb_model.predict(val_X)\n",
    "gb_val_mae = mean_absolute_error(gb_val_predictions, val_y)\n",
    "print(\"Validation MAE for Gradient Boosting: {:,.0f}\".format(gb_val_mae))"
   ]
  },
  {
   "cell_type": "markdown",
   "metadata": {},
   "source": [
    "# Pipeline And Cross Validation"
   ]
  },
  {
   "cell_type": "code",
   "execution_count": 39,
   "metadata": {
    "_uuid": "4de40eed4b623423a8571609f74e10a6fb228bc4"
   },
   "outputs": [
    {
     "name": "stdout",
     "output_type": "stream",
     "text": [
      "MAE for XGBoost with Train Test Tplit: 16,089\n",
      "[-16578.62449467 -18394.61899224 -15986.84720615]\n",
      "MAE for XGBoost with Cross Validation 16986.696898\n"
     ]
    }
   ],
   "source": [
    "xg_pipeline = make_pipeline(SimpleImputer(), XGBRegressor(n_estimators=300, learning_rate=0.1))\n",
    "xg_pipeline.fit(train_X, train_y)\n",
    "xg_predictions = xg_pipeline.predict(val_X)\n",
    "xg_val_mae = mean_absolute_error(xg_predictions, val_y)\n",
    "print(\"MAE for XGBoost with Train Test Tplit: {:,.0f}\".format(xg_val_mae))\n",
    "\n",
    "scores = cross_val_score(xg_pipeline, X, y, scoring='neg_mean_absolute_error')\n",
    "print(scores)\n",
    "print('MAE for XGBoost with Cross Validation %2f' %(-1 * scores.mean()))\n",
    "\n",
    "#xg_model = XGBRegressor(n_estimators=300, learning_rate=0.1)\n",
    "#xg_model.fit(train_X, train_y, early_stopping_rounds=5, eval_set=[(train_X, train_y)], verbose=False)\n",
    "#xg_val_predictions = xg_model.predict(val_X)\n",
    "#xg_val_mae1 = mean_absolute_error(xg_val_predictions, val_y)"
   ]
  },
  {
   "cell_type": "markdown",
   "metadata": {},
   "source": [
    "# Align Training and Test Sets"
   ]
  },
  {
   "cell_type": "code",
   "execution_count": 40,
   "metadata": {},
   "outputs": [],
   "source": [
    "test_data_path = 'test.csv'\n",
    "test_data = pd.read_csv(test_data_path)\n",
    "\n",
    "one_hot_encoded_test = pd.get_dummies(test_data[updated_features])\n",
    "final_train, final_test = one_hot_encoded_training.align(one_hot_encoded_test, join='inner', axis=1)"
   ]
  },
  {
   "cell_type": "markdown",
   "metadata": {
    "_kg_hide-input": false,
    "_uuid": "913534ae9a241ba26d6d744a8ba9d7ddd3f3ba78"
   },
   "source": [
    "# Make Predictions"
   ]
  },
  {
   "cell_type": "code",
   "execution_count": 41,
   "metadata": {
    "_uuid": "89f607fe8f8361579899d06e43c716c989ca2992"
   },
   "outputs": [],
   "source": [
    "xg_on_full_data = XGBRegressor(n_estimators=300, learning_rate=0.1)\n",
    "xg_on_full_data.fit(final_train, y)\n",
    "test_preds = xg_on_full_data.predict(final_test)\n",
    "\n",
    "output = pd.DataFrame({'Id': test_data.Id,\n",
    "                       'SalePrice': test_preds})\n",
    "\n",
    "output.to_csv('submission.csv', index=False)"
   ]
  }
 ],
 "metadata": {
  "kernelspec": {
   "display_name": "Python 3",
   "language": "python",
   "name": "python3"
  },
  "language_info": {
   "codemirror_mode": {
    "name": "ipython",
    "version": 3
   },
   "file_extension": ".py",
   "mimetype": "text/x-python",
   "name": "python",
   "nbconvert_exporter": "python",
   "pygments_lexer": "ipython3",
   "version": "3.7.3"
  }
 },
 "nbformat": 4,
 "nbformat_minor": 1
}
